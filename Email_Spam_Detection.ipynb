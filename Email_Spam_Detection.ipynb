{
 "cells": [
  {
   "cell_type": "code",
   "execution_count": 1,
   "id": "238a22e5-7ac9-41bb-a50c-13b0b0cdc140",
   "metadata": {},
   "outputs": [],
   "source": [
    "import numpy as np\n",
    "import pandas as pd\n",
    "import matplotlib as plt"
   ]
  },
  {
   "cell_type": "code",
   "execution_count": 2,
   "id": "975e48de-6536-4e71-94c4-082e3de3f265",
   "metadata": {},
   "outputs": [],
   "source": [
    "data=pd.read_csv(r'C:\\Users\\we\\Desktop\\puthon\\Python_Practice\\spam_ham_dataset.csv')"
   ]
  },
  {
   "cell_type": "code",
   "execution_count": 3,
   "id": "04d66c2f-7b8e-4432-a5dd-4a99f6b697bb",
   "metadata": {},
   "outputs": [
    {
     "data": {
      "text/html": [
       "<div>\n",
       "<style scoped>\n",
       "    .dataframe tbody tr th:only-of-type {\n",
       "        vertical-align: middle;\n",
       "    }\n",
       "\n",
       "    .dataframe tbody tr th {\n",
       "        vertical-align: top;\n",
       "    }\n",
       "\n",
       "    .dataframe thead th {\n",
       "        text-align: right;\n",
       "    }\n",
       "</style>\n",
       "<table border=\"1\" class=\"dataframe\">\n",
       "  <thead>\n",
       "    <tr style=\"text-align: right;\">\n",
       "      <th></th>\n",
       "      <th>Unnamed: 0</th>\n",
       "      <th>label</th>\n",
       "      <th>text</th>\n",
       "      <th>label_num</th>\n",
       "    </tr>\n",
       "  </thead>\n",
       "  <tbody>\n",
       "    <tr>\n",
       "      <th>0</th>\n",
       "      <td>605</td>\n",
       "      <td>ham</td>\n",
       "      <td>Subject: enron methanol ; meter # : 988291\\r\\n...</td>\n",
       "      <td>0</td>\n",
       "    </tr>\n",
       "    <tr>\n",
       "      <th>1</th>\n",
       "      <td>2349</td>\n",
       "      <td>ham</td>\n",
       "      <td>Subject: hpl nom for january 9 , 2001\\r\\n( see...</td>\n",
       "      <td>0</td>\n",
       "    </tr>\n",
       "    <tr>\n",
       "      <th>2</th>\n",
       "      <td>3624</td>\n",
       "      <td>ham</td>\n",
       "      <td>Subject: neon retreat\\r\\nho ho ho , we ' re ar...</td>\n",
       "      <td>0</td>\n",
       "    </tr>\n",
       "    <tr>\n",
       "      <th>3</th>\n",
       "      <td>4685</td>\n",
       "      <td>spam</td>\n",
       "      <td>Subject: photoshop , windows , office . cheap ...</td>\n",
       "      <td>1</td>\n",
       "    </tr>\n",
       "    <tr>\n",
       "      <th>4</th>\n",
       "      <td>2030</td>\n",
       "      <td>ham</td>\n",
       "      <td>Subject: re : indian springs\\r\\nthis deal is t...</td>\n",
       "      <td>0</td>\n",
       "    </tr>\n",
       "    <tr>\n",
       "      <th>...</th>\n",
       "      <td>...</td>\n",
       "      <td>...</td>\n",
       "      <td>...</td>\n",
       "      <td>...</td>\n",
       "    </tr>\n",
       "    <tr>\n",
       "      <th>5166</th>\n",
       "      <td>1518</td>\n",
       "      <td>ham</td>\n",
       "      <td>Subject: put the 10 on the ft\\r\\nthe transport...</td>\n",
       "      <td>0</td>\n",
       "    </tr>\n",
       "    <tr>\n",
       "      <th>5167</th>\n",
       "      <td>404</td>\n",
       "      <td>ham</td>\n",
       "      <td>Subject: 3 / 4 / 2000 and following noms\\r\\nhp...</td>\n",
       "      <td>0</td>\n",
       "    </tr>\n",
       "    <tr>\n",
       "      <th>5168</th>\n",
       "      <td>2933</td>\n",
       "      <td>ham</td>\n",
       "      <td>Subject: calpine daily gas nomination\\r\\n&gt;\\r\\n...</td>\n",
       "      <td>0</td>\n",
       "    </tr>\n",
       "    <tr>\n",
       "      <th>5169</th>\n",
       "      <td>1409</td>\n",
       "      <td>ham</td>\n",
       "      <td>Subject: industrial worksheets for august 2000...</td>\n",
       "      <td>0</td>\n",
       "    </tr>\n",
       "    <tr>\n",
       "      <th>5170</th>\n",
       "      <td>4807</td>\n",
       "      <td>spam</td>\n",
       "      <td>Subject: important online banking alert\\r\\ndea...</td>\n",
       "      <td>1</td>\n",
       "    </tr>\n",
       "  </tbody>\n",
       "</table>\n",
       "<p>5171 rows × 4 columns</p>\n",
       "</div>"
      ],
      "text/plain": [
       "      Unnamed: 0 label                                               text  \\\n",
       "0            605   ham  Subject: enron methanol ; meter # : 988291\\r\\n...   \n",
       "1           2349   ham  Subject: hpl nom for january 9 , 2001\\r\\n( see...   \n",
       "2           3624   ham  Subject: neon retreat\\r\\nho ho ho , we ' re ar...   \n",
       "3           4685  spam  Subject: photoshop , windows , office . cheap ...   \n",
       "4           2030   ham  Subject: re : indian springs\\r\\nthis deal is t...   \n",
       "...          ...   ...                                                ...   \n",
       "5166        1518   ham  Subject: put the 10 on the ft\\r\\nthe transport...   \n",
       "5167         404   ham  Subject: 3 / 4 / 2000 and following noms\\r\\nhp...   \n",
       "5168        2933   ham  Subject: calpine daily gas nomination\\r\\n>\\r\\n...   \n",
       "5169        1409   ham  Subject: industrial worksheets for august 2000...   \n",
       "5170        4807  spam  Subject: important online banking alert\\r\\ndea...   \n",
       "\n",
       "      label_num  \n",
       "0             0  \n",
       "1             0  \n",
       "2             0  \n",
       "3             1  \n",
       "4             0  \n",
       "...         ...  \n",
       "5166          0  \n",
       "5167          0  \n",
       "5168          0  \n",
       "5169          0  \n",
       "5170          1  \n",
       "\n",
       "[5171 rows x 4 columns]"
      ]
     },
     "execution_count": 3,
     "metadata": {},
     "output_type": "execute_result"
    }
   ],
   "source": [
    "data"
   ]
  },
  {
   "cell_type": "code",
   "execution_count": 4,
   "id": "534fa024-db0e-4415-984c-071bc1705029",
   "metadata": {},
   "outputs": [],
   "source": [
    "data.columns = ['target' if col == 'label_num' else col for col in data.columns]"
   ]
  },
  {
   "cell_type": "code",
   "execution_count": 5,
   "id": "89bf0244-4399-4200-85d9-1db2e8fc7f4a",
   "metadata": {},
   "outputs": [
    {
     "data": {
      "text/plain": [
       "Index(['Unnamed: 0', 'label', 'text', 'target'], dtype='object')"
      ]
     },
     "execution_count": 5,
     "metadata": {},
     "output_type": "execute_result"
    }
   ],
   "source": [
    "data.columns"
   ]
  },
  {
   "cell_type": "code",
   "execution_count": 6,
   "id": "e0e5318a-0572-44c0-8bb6-df5930d5bc6c",
   "metadata": {},
   "outputs": [],
   "source": [
    "email_data=data.drop(columns=['Unnamed: 0'])"
   ]
  },
  {
   "cell_type": "code",
   "execution_count": 7,
   "id": "0b6ff667-b26a-4f97-88a3-16618498d363",
   "metadata": {},
   "outputs": [],
   "source": [
    "email_data.index.name='index'"
   ]
  },
  {
   "cell_type": "code",
   "execution_count": 8,
   "id": "59b63a09-52e2-461a-8a34-23e09fcebd96",
   "metadata": {},
   "outputs": [
    {
     "data": {
      "text/html": [
       "<div>\n",
       "<style scoped>\n",
       "    .dataframe tbody tr th:only-of-type {\n",
       "        vertical-align: middle;\n",
       "    }\n",
       "\n",
       "    .dataframe tbody tr th {\n",
       "        vertical-align: top;\n",
       "    }\n",
       "\n",
       "    .dataframe thead th {\n",
       "        text-align: right;\n",
       "    }\n",
       "</style>\n",
       "<table border=\"1\" class=\"dataframe\">\n",
       "  <thead>\n",
       "    <tr style=\"text-align: right;\">\n",
       "      <th></th>\n",
       "      <th>label</th>\n",
       "      <th>text</th>\n",
       "      <th>target</th>\n",
       "    </tr>\n",
       "    <tr>\n",
       "      <th>index</th>\n",
       "      <th></th>\n",
       "      <th></th>\n",
       "      <th></th>\n",
       "    </tr>\n",
       "  </thead>\n",
       "  <tbody>\n",
       "    <tr>\n",
       "      <th>0</th>\n",
       "      <td>ham</td>\n",
       "      <td>Subject: enron methanol ; meter # : 988291\\r\\n...</td>\n",
       "      <td>0</td>\n",
       "    </tr>\n",
       "    <tr>\n",
       "      <th>1</th>\n",
       "      <td>ham</td>\n",
       "      <td>Subject: hpl nom for january 9 , 2001\\r\\n( see...</td>\n",
       "      <td>0</td>\n",
       "    </tr>\n",
       "    <tr>\n",
       "      <th>2</th>\n",
       "      <td>ham</td>\n",
       "      <td>Subject: neon retreat\\r\\nho ho ho , we ' re ar...</td>\n",
       "      <td>0</td>\n",
       "    </tr>\n",
       "    <tr>\n",
       "      <th>3</th>\n",
       "      <td>spam</td>\n",
       "      <td>Subject: photoshop , windows , office . cheap ...</td>\n",
       "      <td>1</td>\n",
       "    </tr>\n",
       "    <tr>\n",
       "      <th>4</th>\n",
       "      <td>ham</td>\n",
       "      <td>Subject: re : indian springs\\r\\nthis deal is t...</td>\n",
       "      <td>0</td>\n",
       "    </tr>\n",
       "    <tr>\n",
       "      <th>...</th>\n",
       "      <td>...</td>\n",
       "      <td>...</td>\n",
       "      <td>...</td>\n",
       "    </tr>\n",
       "    <tr>\n",
       "      <th>5166</th>\n",
       "      <td>ham</td>\n",
       "      <td>Subject: put the 10 on the ft\\r\\nthe transport...</td>\n",
       "      <td>0</td>\n",
       "    </tr>\n",
       "    <tr>\n",
       "      <th>5167</th>\n",
       "      <td>ham</td>\n",
       "      <td>Subject: 3 / 4 / 2000 and following noms\\r\\nhp...</td>\n",
       "      <td>0</td>\n",
       "    </tr>\n",
       "    <tr>\n",
       "      <th>5168</th>\n",
       "      <td>ham</td>\n",
       "      <td>Subject: calpine daily gas nomination\\r\\n&gt;\\r\\n...</td>\n",
       "      <td>0</td>\n",
       "    </tr>\n",
       "    <tr>\n",
       "      <th>5169</th>\n",
       "      <td>ham</td>\n",
       "      <td>Subject: industrial worksheets for august 2000...</td>\n",
       "      <td>0</td>\n",
       "    </tr>\n",
       "    <tr>\n",
       "      <th>5170</th>\n",
       "      <td>spam</td>\n",
       "      <td>Subject: important online banking alert\\r\\ndea...</td>\n",
       "      <td>1</td>\n",
       "    </tr>\n",
       "  </tbody>\n",
       "</table>\n",
       "<p>5171 rows × 3 columns</p>\n",
       "</div>"
      ],
      "text/plain": [
       "      label                                               text  target\n",
       "index                                                                 \n",
       "0       ham  Subject: enron methanol ; meter # : 988291\\r\\n...       0\n",
       "1       ham  Subject: hpl nom for january 9 , 2001\\r\\n( see...       0\n",
       "2       ham  Subject: neon retreat\\r\\nho ho ho , we ' re ar...       0\n",
       "3      spam  Subject: photoshop , windows , office . cheap ...       1\n",
       "4       ham  Subject: re : indian springs\\r\\nthis deal is t...       0\n",
       "...     ...                                                ...     ...\n",
       "5166    ham  Subject: put the 10 on the ft\\r\\nthe transport...       0\n",
       "5167    ham  Subject: 3 / 4 / 2000 and following noms\\r\\nhp...       0\n",
       "5168    ham  Subject: calpine daily gas nomination\\r\\n>\\r\\n...       0\n",
       "5169    ham  Subject: industrial worksheets for august 2000...       0\n",
       "5170   spam  Subject: important online banking alert\\r\\ndea...       1\n",
       "\n",
       "[5171 rows x 3 columns]"
      ]
     },
     "execution_count": 8,
     "metadata": {},
     "output_type": "execute_result"
    }
   ],
   "source": [
    "email_data"
   ]
  },
  {
   "cell_type": "code",
   "execution_count": 9,
   "id": "6ae1bd48-3d00-415b-9ea0-6ae0a8e8fc22",
   "metadata": {},
   "outputs": [
    {
     "data": {
      "text/plain": [
       "Index(['label', 'text', 'target'], dtype='object')"
      ]
     },
     "execution_count": 9,
     "metadata": {},
     "output_type": "execute_result"
    }
   ],
   "source": [
    "email_data.columns"
   ]
  },
  {
   "cell_type": "code",
   "execution_count": 10,
   "id": "f59d4880-61c3-4eed-9474-9c32e30c0fb1",
   "metadata": {},
   "outputs": [
    {
     "data": {
      "text/plain": [
       "label     0\n",
       "text      0\n",
       "target    0\n",
       "dtype: int64"
      ]
     },
     "execution_count": 10,
     "metadata": {},
     "output_type": "execute_result"
    }
   ],
   "source": [
    "email_data.isna().sum()"
   ]
  },
  {
   "cell_type": "code",
   "execution_count": 11,
   "id": "3dc45960-32db-4142-b245-5c06818f6e23",
   "metadata": {},
   "outputs": [],
   "source": [
    "email_data=email_data.drop_duplicates()"
   ]
  },
  {
   "cell_type": "code",
   "execution_count": 12,
   "id": "4cdd19c2-e8f8-41d4-97e6-f02e8228328c",
   "metadata": {},
   "outputs": [
    {
     "data": {
      "text/html": [
       "<div>\n",
       "<style scoped>\n",
       "    .dataframe tbody tr th:only-of-type {\n",
       "        vertical-align: middle;\n",
       "    }\n",
       "\n",
       "    .dataframe tbody tr th {\n",
       "        vertical-align: top;\n",
       "    }\n",
       "\n",
       "    .dataframe thead th {\n",
       "        text-align: right;\n",
       "    }\n",
       "</style>\n",
       "<table border=\"1\" class=\"dataframe\">\n",
       "  <thead>\n",
       "    <tr style=\"text-align: right;\">\n",
       "      <th></th>\n",
       "      <th>label</th>\n",
       "      <th>text</th>\n",
       "      <th>target</th>\n",
       "    </tr>\n",
       "    <tr>\n",
       "      <th>index</th>\n",
       "      <th></th>\n",
       "      <th></th>\n",
       "      <th></th>\n",
       "    </tr>\n",
       "  </thead>\n",
       "  <tbody>\n",
       "    <tr>\n",
       "      <th>0</th>\n",
       "      <td>ham</td>\n",
       "      <td>Subject: enron methanol ; meter # : 988291\\r\\n...</td>\n",
       "      <td>0</td>\n",
       "    </tr>\n",
       "    <tr>\n",
       "      <th>1</th>\n",
       "      <td>ham</td>\n",
       "      <td>Subject: hpl nom for january 9 , 2001\\r\\n( see...</td>\n",
       "      <td>0</td>\n",
       "    </tr>\n",
       "    <tr>\n",
       "      <th>2</th>\n",
       "      <td>ham</td>\n",
       "      <td>Subject: neon retreat\\r\\nho ho ho , we ' re ar...</td>\n",
       "      <td>0</td>\n",
       "    </tr>\n",
       "    <tr>\n",
       "      <th>3</th>\n",
       "      <td>spam</td>\n",
       "      <td>Subject: photoshop , windows , office . cheap ...</td>\n",
       "      <td>1</td>\n",
       "    </tr>\n",
       "    <tr>\n",
       "      <th>4</th>\n",
       "      <td>ham</td>\n",
       "      <td>Subject: re : indian springs\\r\\nthis deal is t...</td>\n",
       "      <td>0</td>\n",
       "    </tr>\n",
       "    <tr>\n",
       "      <th>...</th>\n",
       "      <td>...</td>\n",
       "      <td>...</td>\n",
       "      <td>...</td>\n",
       "    </tr>\n",
       "    <tr>\n",
       "      <th>5165</th>\n",
       "      <td>ham</td>\n",
       "      <td>Subject: fw : crosstex energy , driscoll ranch...</td>\n",
       "      <td>0</td>\n",
       "    </tr>\n",
       "    <tr>\n",
       "      <th>5166</th>\n",
       "      <td>ham</td>\n",
       "      <td>Subject: put the 10 on the ft\\r\\nthe transport...</td>\n",
       "      <td>0</td>\n",
       "    </tr>\n",
       "    <tr>\n",
       "      <th>5167</th>\n",
       "      <td>ham</td>\n",
       "      <td>Subject: 3 / 4 / 2000 and following noms\\r\\nhp...</td>\n",
       "      <td>0</td>\n",
       "    </tr>\n",
       "    <tr>\n",
       "      <th>5169</th>\n",
       "      <td>ham</td>\n",
       "      <td>Subject: industrial worksheets for august 2000...</td>\n",
       "      <td>0</td>\n",
       "    </tr>\n",
       "    <tr>\n",
       "      <th>5170</th>\n",
       "      <td>spam</td>\n",
       "      <td>Subject: important online banking alert\\r\\ndea...</td>\n",
       "      <td>1</td>\n",
       "    </tr>\n",
       "  </tbody>\n",
       "</table>\n",
       "<p>4993 rows × 3 columns</p>\n",
       "</div>"
      ],
      "text/plain": [
       "      label                                               text  target\n",
       "index                                                                 \n",
       "0       ham  Subject: enron methanol ; meter # : 988291\\r\\n...       0\n",
       "1       ham  Subject: hpl nom for january 9 , 2001\\r\\n( see...       0\n",
       "2       ham  Subject: neon retreat\\r\\nho ho ho , we ' re ar...       0\n",
       "3      spam  Subject: photoshop , windows , office . cheap ...       1\n",
       "4       ham  Subject: re : indian springs\\r\\nthis deal is t...       0\n",
       "...     ...                                                ...     ...\n",
       "5165    ham  Subject: fw : crosstex energy , driscoll ranch...       0\n",
       "5166    ham  Subject: put the 10 on the ft\\r\\nthe transport...       0\n",
       "5167    ham  Subject: 3 / 4 / 2000 and following noms\\r\\nhp...       0\n",
       "5169    ham  Subject: industrial worksheets for august 2000...       0\n",
       "5170   spam  Subject: important online banking alert\\r\\ndea...       1\n",
       "\n",
       "[4993 rows x 3 columns]"
      ]
     },
     "execution_count": 12,
     "metadata": {},
     "output_type": "execute_result"
    }
   ],
   "source": [
    "email_data"
   ]
  },
  {
   "cell_type": "code",
   "execution_count": 13,
   "id": "18c83d5d-7d16-4ded-9119-0384f225d636",
   "metadata": {},
   "outputs": [
    {
     "name": "stdout",
     "output_type": "stream",
     "text": [
      "Requirement already satisfied: scikit-learn in c:\\users\\we\\desktop\\puthon\\lib\\site-packages (1.6.1)\n",
      "Requirement already satisfied: numpy>=1.19.5 in c:\\users\\we\\desktop\\puthon\\lib\\site-packages (from scikit-learn) (2.2.1)\n",
      "Requirement already satisfied: scipy>=1.6.0 in c:\\users\\we\\desktop\\puthon\\lib\\site-packages (from scikit-learn) (1.15.1)\n",
      "Requirement already satisfied: joblib>=1.2.0 in c:\\users\\we\\desktop\\puthon\\lib\\site-packages (from scikit-learn) (1.4.2)\n",
      "Requirement already satisfied: threadpoolctl>=3.1.0 in c:\\users\\we\\desktop\\puthon\\lib\\site-packages (from scikit-learn) (3.5.0)\n"
     ]
    }
   ],
   "source": [
    "!pip install scikit-learn\n",
    "from sklearn.model_selection import train_test_split\n",
    "from sklearn.metrics import accuracy_score"
   ]
  },
  {
   "cell_type": "code",
   "execution_count": 14,
   "id": "25976c82-3227-4a65-8427-8455fc864983",
   "metadata": {},
   "outputs": [],
   "source": [
    "from sklearn.feature_extraction.text import TfidfVectorizer\n"
   ]
  },
  {
   "cell_type": "code",
   "execution_count": 15,
   "id": "5ccd320b-094e-4f6d-83d1-68cec620292c",
   "metadata": {},
   "outputs": [],
   "source": [
    "from sklearn.linear_model import LogisticRegression"
   ]
  },
  {
   "cell_type": "code",
   "execution_count": 16,
   "id": "46c110e3-1da3-416a-9548-521eb1eaf52c",
   "metadata": {},
   "outputs": [],
   "source": [
    "from sklearn.naive_bayes import GaussianNB,MultinomialNB,BernoulliNB"
   ]
  },
  {
   "cell_type": "code",
   "execution_count": 17,
   "id": "af3a4a00-b20e-42be-8f0a-04b1181cbe8e",
   "metadata": {},
   "outputs": [
    {
     "data": {
      "text/html": [
       "<div>\n",
       "<style scoped>\n",
       "    .dataframe tbody tr th:only-of-type {\n",
       "        vertical-align: middle;\n",
       "    }\n",
       "\n",
       "    .dataframe tbody tr th {\n",
       "        vertical-align: top;\n",
       "    }\n",
       "\n",
       "    .dataframe thead th {\n",
       "        text-align: right;\n",
       "    }\n",
       "</style>\n",
       "<table border=\"1\" class=\"dataframe\">\n",
       "  <thead>\n",
       "    <tr style=\"text-align: right;\">\n",
       "      <th></th>\n",
       "      <th>label</th>\n",
       "      <th>text</th>\n",
       "      <th>target</th>\n",
       "    </tr>\n",
       "    <tr>\n",
       "      <th>index</th>\n",
       "      <th></th>\n",
       "      <th></th>\n",
       "      <th></th>\n",
       "    </tr>\n",
       "  </thead>\n",
       "  <tbody>\n",
       "    <tr>\n",
       "      <th>0</th>\n",
       "      <td>ham</td>\n",
       "      <td>Subject: enron methanol ; meter # : 988291\\r\\n...</td>\n",
       "      <td>0</td>\n",
       "    </tr>\n",
       "    <tr>\n",
       "      <th>1</th>\n",
       "      <td>ham</td>\n",
       "      <td>Subject: hpl nom for january 9 , 2001\\r\\n( see...</td>\n",
       "      <td>0</td>\n",
       "    </tr>\n",
       "    <tr>\n",
       "      <th>2</th>\n",
       "      <td>ham</td>\n",
       "      <td>Subject: neon retreat\\r\\nho ho ho , we ' re ar...</td>\n",
       "      <td>0</td>\n",
       "    </tr>\n",
       "  </tbody>\n",
       "</table>\n",
       "</div>"
      ],
      "text/plain": [
       "      label                                               text  target\n",
       "index                                                                 \n",
       "0       ham  Subject: enron methanol ; meter # : 988291\\r\\n...       0\n",
       "1       ham  Subject: hpl nom for january 9 , 2001\\r\\n( see...       0\n",
       "2       ham  Subject: neon retreat\\r\\nho ho ho , we ' re ar...       0"
      ]
     },
     "execution_count": 17,
     "metadata": {},
     "output_type": "execute_result"
    }
   ],
   "source": [
    "email_data.head(3)"
   ]
  },
  {
   "cell_type": "code",
   "execution_count": 18,
   "id": "1cca2314-b199-41d7-88c1-9e037eef8150",
   "metadata": {},
   "outputs": [],
   "source": [
    "X=email_data['text']\n",
    "y=email_data['target']"
   ]
  },
  {
   "cell_type": "code",
   "execution_count": null,
   "id": "5370a8e7-4e99-46ad-ab70-f9617721df15",
   "metadata": {},
   "outputs": [],
   "source": []
  },
  {
   "cell_type": "code",
   "execution_count": 19,
   "id": "3fb83a21-b47b-40fa-b9f5-06c5ee965197",
   "metadata": {},
   "outputs": [],
   "source": [
    "# training the ddat trainingdata contain more data , test_size=0.2 means 20% data will be test data and 80% train data\n",
    "x_train,x_test,y_train,y_test=train_test_split(X,y,test_size=0.2,random_state=3)"
   ]
  },
  {
   "cell_type": "code",
   "execution_count": 20,
   "id": "07bc39a3-5b31-46ca-bc17-504765dd898d",
   "metadata": {},
   "outputs": [
    {
     "name": "stdout",
     "output_type": "stream",
     "text": [
      "(999,)\n",
      "(3994,)\n",
      "(999,)\n",
      "(3994,)\n"
     ]
    }
   ],
   "source": [
    "print(x_test.shape)\n",
    "print(x_train.shape)\n",
    "print(y_test.shape)\n",
    "print(y_train.shape)"
   ]
  },
  {
   "cell_type": "code",
   "execution_count": 21,
   "id": "123d3ffb-7a36-4046-a525-fdbe113f62a5",
   "metadata": {},
   "outputs": [],
   "source": [
    "# Feature Extraction converts the text data to numeric form(vector form) that can be use as input \n",
    "feature_extraction = TfidfVectorizer(min_df=1,stop_words='english',lowercase=True)\n"
   ]
  },
  {
   "cell_type": "code",
   "execution_count": 22,
   "id": "3b9a5897-78c1-437b-9706-4bf8c837f315",
   "metadata": {},
   "outputs": [],
   "source": [
    "\n",
    "x_train_features = feature_extraction.fit_transform(x_train)"
   ]
  },
  {
   "cell_type": "code",
   "execution_count": 23,
   "id": "315caa83-b0ea-4876-a273-04aced2c9ea8",
   "metadata": {},
   "outputs": [],
   "source": [
    "x_test_features = feature_extraction.transform(x_test)"
   ]
  },
  {
   "cell_type": "code",
   "execution_count": 25,
   "id": "0e10ce6e-4360-4213-ac26-7791c4ad60f0",
   "metadata": {},
   "outputs": [],
   "source": [
    "import pickle"
   ]
  },
  {
   "cell_type": "code",
   "execution_count": 26,
   "id": "e04b4c89-929c-4be5-b6e1-c7a7ca249959",
   "metadata": {},
   "outputs": [],
   "source": [
    "with open('Email_Spam_Detection.pkl', 'wb') as vec_file:\n",
    "    pickle.dump(feature_extraction, vec_file)"
   ]
  },
  {
   "cell_type": "code",
   "execution_count": 27,
   "id": "25e8e213-a7a8-4028-8c39-db8952775a4c",
   "metadata": {},
   "outputs": [],
   "source": [
    "y_train=y_train.astype('int')\n",
    "y_test=y_test.astype('int')"
   ]
  },
  {
   "cell_type": "code",
   "execution_count": 28,
   "id": "0cf85f8c-b13c-4b98-ac1c-599b12735598",
   "metadata": {},
   "outputs": [
    {
     "name": "stdout",
     "output_type": "stream",
     "text": [
      "<Compressed Sparse Row sparse matrix of dtype 'float64'\n",
      "\twith 58494 stored elements and shape (999, 43983)>\n",
      "  Coords\tValues\n",
      "  (0, 0)\t0.06117716107146666\n",
      "  (0, 48)\t0.062085512539356597\n",
      "  (0, 69)\t0.06795886739439533\n",
      "  (0, 234)\t0.05426905895776104\n",
      "  (0, 705)\t0.07136281176860133\n",
      "  (0, 1387)\t0.15440207603933154\n",
      "  (0, 3305)\t0.14307453563607608\n",
      "  (0, 3631)\t0.16616295099774236\n",
      "  (0, 4727)\t0.08675424175897524\n",
      "  (0, 6128)\t0.13575452864774817\n",
      "  (0, 10541)\t0.07242863920804246\n",
      "  (0, 10545)\t0.1211873604332566\n",
      "  (0, 11322)\t0.14139235958497845\n",
      "  (0, 11400)\t0.13702861456875923\n",
      "  (0, 12343)\t0.28980633022301033\n",
      "  (0, 13557)\t0.08223346501831243\n",
      "  (0, 13829)\t0.16616295099774236\n",
      "  (0, 14222)\t0.13455328848890136\n",
      "  (0, 14535)\t0.11777186564307265\n",
      "  (0, 15138)\t0.18073011921223398\n",
      "  (0, 15441)\t0.17220887206505922\n",
      "  (0, 16385)\t0.11576882868252202\n",
      "  (0, 17638)\t0.06524484407144131\n",
      "  (0, 19592)\t0.12312867640570642\n",
      "  (0, 20293)\t0.11998612027440979\n",
      "  :\t:\n",
      "  (998, 2517)\t0.5332343360915585\n",
      "  (998, 5034)\t0.09076696420608872\n",
      "  (998, 5660)\t0.07630299247197664\n",
      "  (998, 6735)\t0.051009345982163445\n",
      "  (998, 9814)\t0.15603984674619054\n",
      "  (998, 10256)\t0.04305994197151996\n",
      "  (998, 10816)\t0.07921239432713108\n",
      "  (998, 12539)\t0.05242470161615338\n",
      "  (998, 15962)\t0.13135006804849775\n",
      "  (998, 16557)\t0.04072464650660813\n",
      "  (998, 18481)\t0.10410548898862278\n",
      "  (998, 18539)\t0.12683675171192368\n",
      "  (998, 18592)\t0.04941433113369594\n",
      "  (998, 21323)\t0.10037032340349558\n",
      "  (998, 24944)\t0.09259605570792072\n",
      "  (998, 26271)\t0.12207617754522472\n",
      "  (998, 29020)\t0.07988202393822527\n",
      "  (998, 34399)\t0.12073149556844139\n",
      "  (998, 34430)\t0.27696958463903704\n",
      "  (998, 35956)\t0.06917127278002547\n",
      "  (998, 37758)\t0.15816276725398107\n",
      "  (998, 37793)\t0.28692551658348453\n",
      "  (998, 38068)\t0.03628980628410864\n",
      "  (998, 42162)\t0.5235426793491761\n",
      "  (998, 43203)\t0.06126802180580488\n",
      "<Compressed Sparse Row sparse matrix of dtype 'float64'\n",
      "\twith 267661 stored elements and shape (3994, 43983)>\n",
      "  Coords\tValues\n",
      "  (0, 38068)\t0.08632840173723072\n",
      "  (0, 25103)\t0.4662578469095977\n",
      "  (0, 26280)\t0.2982705338173961\n",
      "  (0, 18587)\t0.557645693321033\n",
      "  (0, 15779)\t0.6125495870748028\n",
      "  (1, 38068)\t0.03747564753664442\n",
      "  (1, 33380)\t0.2783514308434747\n",
      "  (1, 39005)\t0.2400521335021388\n",
      "  (1, 13675)\t0.10051353969511687\n",
      "  (1, 13499)\t0.13044974405231805\n",
      "  (1, 39177)\t0.05764146937583861\n",
      "  (1, 10433)\t0.06393859621026157\n",
      "  (1, 24504)\t0.06309539261124628\n",
      "  (1, 12030)\t0.0886370802732481\n",
      "  (1, 12784)\t0.19753425051965484\n",
      "  (1, 37619)\t0.09010841211659963\n",
      "  (1, 35345)\t0.39026367474220075\n",
      "  (1, 17638)\t0.07756296633236258\n",
      "  (1, 234)\t0.09677245580250261\n",
      "  (1, 787)\t0.0465254462177623\n",
      "  (1, 1001)\t0.055136605920593836\n",
      "  (1, 326)\t0.037014421659383547\n",
      "  (1, 1881)\t0.05855730663416534\n",
      "  (1, 8813)\t0.161384766640587\n",
      "  (1, 21504)\t0.06951833846460254\n",
      "  :\t:\n",
      "  (3993, 41772)\t0.10479615859283661\n",
      "  (3993, 26343)\t0.12944350642047983\n",
      "  (3993, 36052)\t0.13030370059306404\n",
      "  (3993, 25413)\t0.10371693061389285\n",
      "  (3993, 28488)\t0.08589138095974302\n",
      "  (3993, 16404)\t0.27120583881084326\n",
      "  (3993, 0)\t0.09289316393050039\n",
      "  (3993, 25267)\t0.08749172432545746\n",
      "  (3993, 27153)\t0.09167482634209055\n",
      "  (3993, 25522)\t0.1178922644645291\n",
      "  (3993, 26440)\t0.125912027431606\n",
      "  (3993, 25460)\t0.25032227867775364\n",
      "  (3993, 17769)\t0.14024873198991744\n",
      "  (3993, 36318)\t0.17368192223618445\n",
      "  (3993, 18591)\t0.11971626213034599\n",
      "  (3993, 41155)\t0.15792867348131967\n",
      "  (3993, 36068)\t0.12530991010509887\n",
      "  (3993, 11286)\t0.15477437720994675\n",
      "  (3993, 12319)\t0.21849660049022154\n",
      "  (3993, 5166)\t0.1505601835590392\n",
      "  (3993, 27290)\t0.2523066120733761\n",
      "  (3993, 27289)\t0.46889712139391215\n",
      "  (3993, 3926)\t0.27442581998122845\n",
      "  (3993, 1044)\t0.27442581998122845\n",
      "  (3993, 43252)\t0.27442581998122845\n"
     ]
    }
   ],
   "source": [
    "print(x_test_features)\n",
    "print(x_train_features)"
   ]
  },
  {
   "cell_type": "code",
   "execution_count": 29,
   "id": "ff32f44a-a7c6-4d35-be6b-3ffbf755ab47",
   "metadata": {},
   "outputs": [],
   "source": [
    "# Train Model\n",
    "model=LogisticRegression()"
   ]
  },
  {
   "cell_type": "code",
   "execution_count": 30,
   "id": "a9aead20-a8df-4b84-a071-9d048c231841",
   "metadata": {},
   "outputs": [],
   "source": [
    "# training the lLogisticRegression with training ddata\n",
    "model.fit(x_train_features,y_train)\n",
    "with open('Email_Spam_Detection.pkl', 'wb') as model_file:\n",
    "    pickle.dump(model, model_file)"
   ]
  },
  {
   "cell_type": "code",
   "execution_count": 31,
   "id": "11e51831-14af-4b07-a2ae-eefff7237b1f",
   "metadata": {},
   "outputs": [],
   "source": [
    "from sklearn.metrics import accuracy_score"
   ]
  },
  {
   "cell_type": "code",
   "execution_count": 32,
   "id": "fe563fbc-4fa2-4bcb-8382-cc60ceefe303",
   "metadata": {},
   "outputs": [],
   "source": [
    "# evaluating the training model\n",
    "prediction_on_training_data=model.predict(x_train_features)\n",
    "accuracy_on_trainingdata=accuracy_score(y_train,prediction_on_training_data)"
   ]
  },
  {
   "cell_type": "code",
   "execution_count": 33,
   "id": "2e4b629e-8479-43b2-bd90-4ae6d083a208",
   "metadata": {},
   "outputs": [
    {
     "name": "stdout",
     "output_type": "stream",
     "text": [
      "0.9957436154231347\n"
     ]
    }
   ],
   "source": [
    "print(accuracy_on_trainingdata)"
   ]
  },
  {
   "cell_type": "code",
   "execution_count": 34,
   "id": "5960452d-01f2-4b16-9f97-8c1f57a582e6",
   "metadata": {},
   "outputs": [],
   "source": [
    "# evaluating the test model\n",
    "prediction_on_test_data=model.predict(x_test_features)\n",
    "accuracy_on_testingdata=accuracy_score(y_test,prediction_on_test_data)"
   ]
  },
  {
   "cell_type": "code",
   "execution_count": 35,
   "id": "2fd0215e-8d61-435f-b034-3fe28cb40219",
   "metadata": {},
   "outputs": [
    {
     "name": "stdout",
     "output_type": "stream",
     "text": [
      "0.987987987987988\n"
     ]
    }
   ],
   "source": [
    "print(accuracy_on_testingdata)"
   ]
  },
  {
   "cell_type": "code",
   "execution_count": 36,
   "id": "ed8788df-ca24-4eb3-a2f3-68fb47226584",
   "metadata": {},
   "outputs": [],
   "source": [
    "# Building a Predictive SSystem \n",
    "input_mail=['Hi Mohanthy Dontaraboina,The webinar information for Business Growth Hands On Training Summit 2025, which you previously registered for, has been updated by the host.'];\n",
    "# convert to numeric value\n",
    "input_data_mail=feature_extraction.transform(input_mail)\n",
    "# making pprediction \n",
    "prediction=model.predict(input_data_mail)\n"
   ]
  },
  {
   "cell_type": "code",
   "execution_count": 37,
   "id": "df880338-6076-4e75-8f6e-f916058ddede",
   "metadata": {},
   "outputs": [
    {
     "name": "stdout",
     "output_type": "stream",
     "text": [
      "Spam Mail\n"
     ]
    }
   ],
   "source": [
    "if(prediction[0]==0): \n",
    "    print(\"Ham Mail\")\n",
    "else: \n",
    "    print(\"Spam Mail\")"
   ]
  },
  {
   "cell_type": "code",
   "execution_count": 38,
   "id": "84a91867-55eb-4637-9ade-c406fd0220d3",
   "metadata": {},
   "outputs": [],
   "source": [
    "# Building a Predictive SSystem \n",
    "input_mail=['hooray you won the prize'];\n",
    "# convert to numeric value\n",
    "input_data_mail=feature_extraction.transform(input_mail)\n",
    "# making pprediction \n",
    "prediction=model.predict(input_data_mail)\n"
   ]
  },
  {
   "cell_type": "code",
   "execution_count": 39,
   "id": "e6155a4a-c407-46ef-b083-736eb0a67b9a",
   "metadata": {},
   "outputs": [
    {
     "name": "stdout",
     "output_type": "stream",
     "text": [
      "Requirement already satisfied: streamlit in c:\\users\\we\\desktop\\puthon\\lib\\site-packages (1.41.1)\n",
      "Requirement already satisfied: altair<6,>=4.0 in c:\\users\\we\\desktop\\puthon\\lib\\site-packages (from streamlit) (5.5.0)\n",
      "Requirement already satisfied: blinker<2,>=1.0.0 in c:\\users\\we\\desktop\\puthon\\lib\\site-packages (from streamlit) (1.9.0)\n",
      "Requirement already satisfied: cachetools<6,>=4.0 in c:\\users\\we\\desktop\\puthon\\lib\\site-packages (from streamlit) (5.5.0)\n",
      "Requirement already satisfied: click<9,>=7.0 in c:\\users\\we\\desktop\\puthon\\lib\\site-packages (from streamlit) (8.1.8)\n",
      "Requirement already satisfied: numpy<3,>=1.23 in c:\\users\\we\\desktop\\puthon\\lib\\site-packages (from streamlit) (2.2.1)\n",
      "Requirement already satisfied: packaging<25,>=20 in c:\\users\\we\\desktop\\puthon\\lib\\site-packages (from streamlit) (24.2)\n",
      "Requirement already satisfied: pandas<3,>=1.4.0 in c:\\users\\we\\desktop\\puthon\\lib\\site-packages (from streamlit) (2.2.3)\n",
      "Requirement already satisfied: pillow<12,>=7.1.0 in c:\\users\\we\\desktop\\puthon\\lib\\site-packages (from streamlit) (11.1.0)\n",
      "Requirement already satisfied: protobuf<6,>=3.20 in c:\\users\\we\\desktop\\puthon\\lib\\site-packages (from streamlit) (5.29.3)\n",
      "Requirement already satisfied: pyarrow>=7.0 in c:\\users\\we\\desktop\\puthon\\lib\\site-packages (from streamlit) (19.0.0)\n",
      "Requirement already satisfied: requests<3,>=2.27 in c:\\users\\we\\desktop\\puthon\\lib\\site-packages (from streamlit) (2.32.3)\n",
      "Requirement already satisfied: rich<14,>=10.14.0 in c:\\users\\we\\desktop\\puthon\\lib\\site-packages (from streamlit) (13.9.4)\n",
      "Requirement already satisfied: tenacity<10,>=8.1.0 in c:\\users\\we\\desktop\\puthon\\lib\\site-packages (from streamlit) (9.0.0)\n",
      "Requirement already satisfied: toml<2,>=0.10.1 in c:\\users\\we\\desktop\\puthon\\lib\\site-packages (from streamlit) (0.10.2)\n",
      "Requirement already satisfied: typing-extensions<5,>=4.3.0 in c:\\users\\we\\desktop\\puthon\\lib\\site-packages (from streamlit) (4.12.2)\n",
      "Requirement already satisfied: watchdog<7,>=2.1.5 in c:\\users\\we\\desktop\\puthon\\lib\\site-packages (from streamlit) (6.0.0)\n",
      "Requirement already satisfied: gitpython!=3.1.19,<4,>=3.0.7 in c:\\users\\we\\desktop\\puthon\\lib\\site-packages (from streamlit) (3.1.44)\n",
      "Requirement already satisfied: pydeck<1,>=0.8.0b4 in c:\\users\\we\\desktop\\puthon\\lib\\site-packages (from streamlit) (0.9.1)\n",
      "Requirement already satisfied: tornado<7,>=6.0.3 in c:\\users\\we\\desktop\\puthon\\lib\\site-packages (from streamlit) (6.4.2)\n",
      "Requirement already satisfied: jinja2 in c:\\users\\we\\desktop\\puthon\\lib\\site-packages (from altair<6,>=4.0->streamlit) (3.1.5)\n",
      "Requirement already satisfied: jsonschema>=3.0 in c:\\users\\we\\desktop\\puthon\\lib\\site-packages (from altair<6,>=4.0->streamlit) (4.23.0)\n",
      "Requirement already satisfied: narwhals>=1.14.2 in c:\\users\\we\\desktop\\puthon\\lib\\site-packages (from altair<6,>=4.0->streamlit) (1.22.0)\n",
      "Requirement already satisfied: colorama in c:\\users\\we\\desktop\\puthon\\lib\\site-packages (from click<9,>=7.0->streamlit) (0.4.6)\n",
      "Requirement already satisfied: gitdb<5,>=4.0.1 in c:\\users\\we\\desktop\\puthon\\lib\\site-packages (from gitpython!=3.1.19,<4,>=3.0.7->streamlit) (4.0.12)\n",
      "Requirement already satisfied: python-dateutil>=2.8.2 in c:\\users\\we\\desktop\\puthon\\lib\\site-packages (from pandas<3,>=1.4.0->streamlit) (2.9.0.post0)\n",
      "Requirement already satisfied: pytz>=2020.1 in c:\\users\\we\\desktop\\puthon\\lib\\site-packages (from pandas<3,>=1.4.0->streamlit) (2024.2)\n",
      "Requirement already satisfied: tzdata>=2022.7 in c:\\users\\we\\desktop\\puthon\\lib\\site-packages (from pandas<3,>=1.4.0->streamlit) (2024.2)\n",
      "Requirement already satisfied: charset-normalizer<4,>=2 in c:\\users\\we\\desktop\\puthon\\lib\\site-packages (from requests<3,>=2.27->streamlit) (3.4.1)\n",
      "Requirement already satisfied: idna<4,>=2.5 in c:\\users\\we\\desktop\\puthon\\lib\\site-packages (from requests<3,>=2.27->streamlit) (3.10)\n",
      "Requirement already satisfied: urllib3<3,>=1.21.1 in c:\\users\\we\\desktop\\puthon\\lib\\site-packages (from requests<3,>=2.27->streamlit) (2.3.0)\n",
      "Requirement already satisfied: certifi>=2017.4.17 in c:\\users\\we\\desktop\\puthon\\lib\\site-packages (from requests<3,>=2.27->streamlit) (2024.12.14)\n",
      "Requirement already satisfied: markdown-it-py>=2.2.0 in c:\\users\\we\\desktop\\puthon\\lib\\site-packages (from rich<14,>=10.14.0->streamlit) (3.0.0)\n",
      "Requirement already satisfied: pygments<3.0.0,>=2.13.0 in c:\\users\\we\\desktop\\puthon\\lib\\site-packages (from rich<14,>=10.14.0->streamlit) (2.19.1)\n",
      "Requirement already satisfied: smmap<6,>=3.0.1 in c:\\users\\we\\desktop\\puthon\\lib\\site-packages (from gitdb<5,>=4.0.1->gitpython!=3.1.19,<4,>=3.0.7->streamlit) (5.0.2)\n",
      "Requirement already satisfied: MarkupSafe>=2.0 in c:\\users\\we\\desktop\\puthon\\lib\\site-packages (from jinja2->altair<6,>=4.0->streamlit) (3.0.2)\n",
      "Requirement already satisfied: attrs>=22.2.0 in c:\\users\\we\\desktop\\puthon\\lib\\site-packages (from jsonschema>=3.0->altair<6,>=4.0->streamlit) (24.3.0)\n",
      "Requirement already satisfied: jsonschema-specifications>=2023.03.6 in c:\\users\\we\\desktop\\puthon\\lib\\site-packages (from jsonschema>=3.0->altair<6,>=4.0->streamlit) (2024.10.1)\n",
      "Requirement already satisfied: referencing>=0.28.4 in c:\\users\\we\\desktop\\puthon\\lib\\site-packages (from jsonschema>=3.0->altair<6,>=4.0->streamlit) (0.36.1)\n",
      "Requirement already satisfied: rpds-py>=0.7.1 in c:\\users\\we\\desktop\\puthon\\lib\\site-packages (from jsonschema>=3.0->altair<6,>=4.0->streamlit) (0.22.3)\n",
      "Requirement already satisfied: mdurl~=0.1 in c:\\users\\we\\desktop\\puthon\\lib\\site-packages (from markdown-it-py>=2.2.0->rich<14,>=10.14.0->streamlit) (0.1.2)\n",
      "Requirement already satisfied: six>=1.5 in c:\\users\\we\\desktop\\puthon\\lib\\site-packages (from python-dateutil>=2.8.2->pandas<3,>=1.4.0->streamlit) (1.17.0)\n"
     ]
    }
   ],
   "source": [
    "!pip install streamlit"
   ]
  },
  {
   "cell_type": "code",
   "execution_count": 40,
   "id": "ee5c1d43-3c74-42f8-943d-b345799b2147",
   "metadata": {},
   "outputs": [
    {
     "name": "stdout",
     "output_type": "stream",
     "text": [
      "Overwriting email_spam_app.py\n"
     ]
    }
   ],
   "source": [
    "%%writefile email_spam_app.py\n",
    "import streamlit as st\n",
    "import pickle\n",
    "\n",
    "# Load the trained model and vectorizer\n",
    "with open('Email_Spam_Detection.pkl', 'rb') as model_file:\n",
    "    loaded_model = pickle.load(model_file)\n",
    "\n",
    "with open('Email_Spam_Detection.pkl', 'rb') as vec_file:\n",
    "    feature_extraction = pickle.load(vec_file)\n",
    "\n",
    "# Streamlit application title\n",
    "st.title('Email/SMS Spam Classifier')\n",
    "\n",
    "# Input text from the user\n",
    "input_sms = st.text_input(\"Enter the Message\")\n",
    "\n",
    "# Preprocess, Vectorize, and Predict\n",
    "if input_sms:\n",
    "    input_sms = [input_sms]  # Wrap input in a list (even if it's just one message)\n",
    "\n",
    "    # Vectorize the input using the pre-fitted vectorizer (no need to fit again)\n",
    "    input_sms_vectorized = feature_extraction.transform(input_sms)\n",
    "\n",
    "    # Predict using the loaded model\n",
    "    prediction = loaded_model.predict(input_sms_vectorized)\n",
    "\n",
    "    # Display the result\n",
    "    if prediction[0] == 0:\n",
    "        st.header(\"Ham Mail\")  # 0 means not spam (ham)\n",
    "    else:\n",
    "        st.header(\"Spam Mail\")  # 1 means spam\n"
   ]
  },
  {
   "cell_type": "code",
   "execution_count": null,
   "id": "5c6ce81b-a38c-4433-b0d2-90ec2aead45b",
   "metadata": {},
   "outputs": [],
   "source": [
    "!streamlit run email_spam_app.py --server.port 8502"
   ]
  },
  {
   "cell_type": "code",
   "execution_count": null,
   "id": "c08fd3b8-70a6-4666-b8f1-6379a26e4b70",
   "metadata": {},
   "outputs": [],
   "source": []
  }
 ],
 "metadata": {
  "kernelspec": {
   "display_name": "Python 3 (ipykernel)",
   "language": "python",
   "name": "python3"
  },
  "language_info": {
   "codemirror_mode": {
    "name": "ipython",
    "version": 3
   },
   "file_extension": ".py",
   "mimetype": "text/x-python",
   "name": "python",
   "nbconvert_exporter": "python",
   "pygments_lexer": "ipython3",
   "version": "3.13.1"
  }
 },
 "nbformat": 4,
 "nbformat_minor": 5
}
